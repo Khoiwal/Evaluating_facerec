{
 "cells": [
  {
   "cell_type": "code",
   "execution_count": 1,
   "metadata": {
    "collapsed": false
   },
   "outputs": [
    {
     "name": "stdout",
     "output_type": "stream",
     "text": [
      "<dlib.rectangles object at 0x7f09155cc050>\n",
      "Found 1 faces in the image file /home/pramod/DATA/DSC03325.JPG\n",
      "- Face #0 found at Left: 1450 Top: 267 Right: 2116 Bottom: 933\n",
      "<dlib.rectangles object at 0x7f090ef04e50>\n",
      "Found 1 faces in the image file /home/pramod/DATA/DSC03396.JPG\n",
      "- Face #0 found at Left: 598 Top: -147 Right: 1556 Bottom: 918\n",
      "<dlib.rectangles object at 0x7f090ef04ed0>\n",
      "Found 1 faces in the image file /home/pramod/DATA/DSC03327.JPG\n",
      "- Face #0 found at Left: 1006 Top: 341 Right: 1672 Bottom: 1007\n"
     ]
    },
    {
     "ename": "KeyboardInterrupt",
     "evalue": "",
     "output_type": "error",
     "traceback": [
      "\u001b[0;31m---------------------------------------------------------------------------\u001b[0m",
      "\u001b[0;31mKeyboardInterrupt\u001b[0m                         Traceback (most recent call last)",
      "\u001b[0;32m<ipython-input-1-6c6371aa4a77>\u001b[0m in \u001b[0;36m<module>\u001b[0;34m()\u001b[0m\n\u001b[1;32m     30\u001b[0m \u001b[0;34m\u001b[0m\u001b[0m\n\u001b[1;32m     31\u001b[0m \u001b[0;34m\u001b[0m\u001b[0m\n\u001b[0;32m---> 32\u001b[0;31m     \u001b[0mdetected_faces\u001b[0m \u001b[0;34m=\u001b[0m \u001b[0mface_detector\u001b[0m\u001b[0;34m(\u001b[0m\u001b[0mimage\u001b[0m\u001b[0;34m,\u001b[0m \u001b[0;36m1\u001b[0m\u001b[0;34m)\u001b[0m\u001b[0;34m\u001b[0m\u001b[0m\n\u001b[0m\u001b[1;32m     33\u001b[0m \u001b[0;34m\u001b[0m\u001b[0m\n\u001b[1;32m     34\u001b[0m     \u001b[0;32mprint\u001b[0m \u001b[0mdetected_faces\u001b[0m\u001b[0;34m\u001b[0m\u001b[0m\n",
      "\u001b[0;31mKeyboardInterrupt\u001b[0m: "
     ]
    }
   ],
   "source": [
    "import sys\n",
    "import dlib\n",
    "import cv2\n",
    "import openface\n",
    "import dlib\n",
    "import cv2\n",
    "import openface\n",
    "import sys\n",
    "import PIL\n",
    "from PIL import Image\n",
    "from skimage import color\n",
    "from skimage import io\n",
    "import os\n",
    "import glob\n",
    "\n",
    "# You can download the required pre-trained face detection model here:\n",
    "# http://dlib.net/files/shape_predictor_68_face_landmarks.dat.bz2\n",
    "predictor_model = \"/home/pramod/shape_predictor_68_face_landmarks.dat\"\n",
    "\n",
    "\n",
    "face_detector = dlib.get_frontal_face_detector()\n",
    "face_pose_predictor = dlib.shape_predictor(predictor_model)\n",
    "face_aligner = openface.AlignDlib(predictor_model)\n",
    "\n",
    "j=1\n",
    "\n",
    "for filename in glob.glob('/home/pramod/DATA/*.JPG'):\n",
    "    \n",
    "    image = cv2.imread((filename ), 0)\n",
    "    \n",
    "\n",
    "    detected_faces = face_detector(image, 1)\n",
    "    \n",
    "    print detected_faces\n",
    "\n",
    "    j=j+1\n",
    "\n",
    "\n",
    "    print(\"Found {} faces in the image file {}\".format(len(detected_faces), filename))\n",
    "\n",
    "# Loop through each face we found in the image\n",
    "    for i, face_rect in enumerate(detected_faces):\n",
    "\n",
    "        print(\"- Face #{} found at Left: {} Top: {} Right: {} Bottom: {}\".format(i, face_rect.left(), face_rect.top(), face_rect.right(), face_rect.bottom()))\n",
    "\n",
    "        pose_landmarks = face_pose_predictor(image, face_rect)\n",
    "\n",
    "        alignedFace = face_aligner.align(534, image, face_rect, landmarkIndices=openface.AlignDlib.OUTER_EYES_AND_NOSE)\n",
    "\n",
    "        cv2.imwrite(\"aligned_face_{}.jpg\".format(j), alignedFace)"
   ]
  },
  {
   "cell_type": "code",
   "execution_count": null,
   "metadata": {
    "collapsed": true
   },
   "outputs": [],
   "source": []
  }
 ],
 "metadata": {
  "kernelspec": {
   "display_name": "Python 2",
   "language": "python",
   "name": "python2"
  }
 },
 "nbformat": 4,
 "nbformat_minor": 2
}
